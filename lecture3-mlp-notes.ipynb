{
 "cells": [
  {
   "cell_type": "code",
   "execution_count": 1,
   "id": "3c846b0c",
   "metadata": {},
   "outputs": [],
   "source": [
    "import torch\n",
    "import torch.nn.functional as F\n",
    "import matplotlib.pyplot as plt # for making figures\n",
    "%matplotlib inline"
   ]
  },
  {
   "cell_type": "code",
   "execution_count": 2,
   "id": "72d6dda7",
   "metadata": {},
   "outputs": [
    {
     "data": {
      "text/plain": [
       "['emma', 'olivia', 'ava', 'isabella', 'sophia', 'charlotte', 'mia', 'amelia']"
      ]
     },
     "execution_count": 2,
     "metadata": {},
     "output_type": "execute_result"
    }
   ],
   "source": [
    "words = open('data/raw/names.txt', 'r').read().splitlines()\n",
    "words[:8]"
   ]
  },
  {
   "cell_type": "code",
   "execution_count": 3,
   "id": "ce89839d",
   "metadata": {},
   "outputs": [
    {
     "name": "stdout",
     "output_type": "stream",
     "text": [
      "{1: 'a', 2: 'b', 3: 'c', 4: 'd', 5: 'e', 6: 'f', 7: 'g', 8: 'h', 9: 'i', 10: 'j', 11: 'k', 12: 'l', 13: 'm', 14: 'n', 15: 'o', 16: 'p', 17: 'q', 18: 'r', 19: 's', 20: 't', 21: 'u', 22: 'v', 23: 'w', 24: 'x', 25: 'y', 26: 'z', 0: '.'}\n"
     ]
    }
   ],
   "source": [
    "# build the vocabulary of characters and mappings to/from integers\n",
    "chars = sorted(list(set(''.join(words))))\n",
    "stoi = {s:i+1 for i,s in enumerate(chars)}\n",
    "stoi['.'] = 0\n",
    "itos = {i:s for s,i in stoi.items()}\n",
    "print(itos)"
   ]
  },
  {
   "cell_type": "code",
   "execution_count": 4,
   "id": "dcec54ef",
   "metadata": {},
   "outputs": [
    {
     "name": "stdout",
     "output_type": "stream",
     "text": [
      "emma\n",
      "... ---> e\n",
      "..e ---> m\n",
      ".em ---> m\n",
      "emm ---> a\n",
      "mma ---> .\n",
      "[0, 0, 0] --> 5\n"
     ]
    }
   ],
   "source": [
    "# build the dataset\n",
    "block_size = 3 # context length: how many characters do we take to predict the next one?\n",
    "\n",
    "X, Y = [], []\n",
    "w = words[0]\n",
    "print(w)\n",
    "context = [0] * block_size\n",
    "for ch in w + '.':\n",
    "    ix = stoi[ch]\n",
    "    X.append(context)\n",
    "    Y.append(ix)\n",
    "    print(''.join(itos[i] for i in context), '--->', itos[ix])\n",
    "    context = context[1:] + [ix] # crop and append\n",
    "print(X[0], '-->', Y[0])\n",
    "X = torch.tensor(X)\n",
    "Y = torch.tensor(Y)"
   ]
  },
  {
   "cell_type": "code",
   "execution_count": 5,
   "id": "46188321",
   "metadata": {},
   "outputs": [
    {
     "data": {
      "text/plain": [
       "tensor([[ 0,  0,  0],\n",
       "        [ 0,  0,  5],\n",
       "        [ 0,  5, 13],\n",
       "        [ 5, 13, 13],\n",
       "        [13, 13,  1]])"
      ]
     },
     "execution_count": 5,
     "metadata": {},
     "output_type": "execute_result"
    }
   ],
   "source": [
    "X"
   ]
  },
  {
   "cell_type": "code",
   "execution_count": 6,
   "id": "9f9fcaca",
   "metadata": {},
   "outputs": [],
   "source": [
    "C = torch.rand((27,2))"
   ]
  },
  {
   "cell_type": "code",
   "execution_count": 7,
   "id": "9fa04b8b",
   "metadata": {},
   "outputs": [
    {
     "data": {
      "text/plain": [
       "tensor([0.7087, 0.7297])"
      ]
     },
     "execution_count": 7,
     "metadata": {},
     "output_type": "execute_result"
    }
   ],
   "source": [
    "C[5] # indexing is faster than matrix mult"
   ]
  },
  {
   "cell_type": "code",
   "execution_count": 8,
   "id": "a654ef50",
   "metadata": {},
   "outputs": [
    {
     "data": {
      "text/plain": [
       "tensor([0.7087, 0.7297])"
      ]
     },
     "execution_count": 8,
     "metadata": {},
     "output_type": "execute_result"
    }
   ],
   "source": [
    "F.one_hot(torch.tensor(5), num_classes=27).float() @ C"
   ]
  },
  {
   "cell_type": "code",
   "execution_count": 9,
   "id": "c9265085",
   "metadata": {},
   "outputs": [
    {
     "data": {
      "text/plain": [
       "torch.Size([5, 3])"
      ]
     },
     "execution_count": 9,
     "metadata": {},
     "output_type": "execute_result"
    }
   ],
   "source": [
    "X.shape"
   ]
  },
  {
   "cell_type": "code",
   "execution_count": 10,
   "id": "bcf8e77f",
   "metadata": {},
   "outputs": [
    {
     "data": {
      "text/plain": [
       "torch.Size([5, 3, 2])"
      ]
     },
     "execution_count": 10,
     "metadata": {},
     "output_type": "execute_result"
    }
   ],
   "source": [
    "C[X].shape"
   ]
  },
  {
   "cell_type": "code",
   "execution_count": 11,
   "id": "29d9d5aa",
   "metadata": {},
   "outputs": [
    {
     "data": {
      "text/plain": [
       "13"
      ]
     },
     "execution_count": 11,
     "metadata": {},
     "output_type": "execute_result"
    }
   ],
   "source": [
    "X[3,2].item()"
   ]
  },
  {
   "cell_type": "code",
   "execution_count": 12,
   "id": "665f1c87",
   "metadata": {},
   "outputs": [
    {
     "data": {
      "text/plain": [
       "tensor([0.9775, 0.5601])"
      ]
     },
     "execution_count": 12,
     "metadata": {},
     "output_type": "execute_result"
    }
   ],
   "source": [
    "C[13]"
   ]
  },
  {
   "cell_type": "code",
   "execution_count": 13,
   "id": "a6458672",
   "metadata": {},
   "outputs": [
    {
     "data": {
      "text/plain": [
       "tensor([0.9775, 0.5601])"
      ]
     },
     "execution_count": 13,
     "metadata": {},
     "output_type": "execute_result"
    }
   ],
   "source": [
    "C[X][3,2] # emb for example 3, 2nd char of context"
   ]
  },
  {
   "cell_type": "code",
   "execution_count": 14,
   "id": "8dc48ecc",
   "metadata": {},
   "outputs": [
    {
     "data": {
      "text/plain": [
       "torch.Size([5, 3, 2])"
      ]
     },
     "execution_count": 14,
     "metadata": {},
     "output_type": "execute_result"
    }
   ],
   "source": [
    "emb = C[X]\n",
    "emb.shape\n",
    "# dim1 = num of examples (contexts)\n",
    "# dim2 = contexts\n",
    "# dim3 = embed"
   ]
  },
  {
   "cell_type": "code",
   "execution_count": 15,
   "id": "070b9bac",
   "metadata": {},
   "outputs": [
    {
     "data": {
      "text/plain": [
       "tensor([[[0.8707, 0.9683],\n",
       "         [0.8707, 0.9683],\n",
       "         [0.8707, 0.9683]],\n",
       "\n",
       "        [[0.8707, 0.9683],\n",
       "         [0.8707, 0.9683],\n",
       "         [0.7087, 0.7297]],\n",
       "\n",
       "        [[0.8707, 0.9683],\n",
       "         [0.7087, 0.7297],\n",
       "         [0.9775, 0.5601]],\n",
       "\n",
       "        [[0.7087, 0.7297],\n",
       "         [0.9775, 0.5601],\n",
       "         [0.9775, 0.5601]],\n",
       "\n",
       "        [[0.9775, 0.5601],\n",
       "         [0.9775, 0.5601],\n",
       "         [0.8902, 0.7857]]])"
      ]
     },
     "execution_count": 15,
     "metadata": {},
     "output_type": "execute_result"
    }
   ],
   "source": [
    "emb # big block is example #x, each row i is emb for char i of the example"
   ]
  },
  {
   "cell_type": "code",
   "execution_count": 16,
   "id": "55750d77",
   "metadata": {},
   "outputs": [],
   "source": [
    "W1 = torch.randn(6,100) # 100 neurons 6 inputs (the whole example above)\n",
    "b1 = torch.rand(100)"
   ]
  },
  {
   "cell_type": "code",
   "execution_count": 17,
   "id": "128abf1a",
   "metadata": {},
   "outputs": [],
   "source": [
    "# wanna do this emb @ W1 + b1\n",
    "# 5x3x2 6x100 \n",
    "# 5x6 6x100 -> 5x100"
   ]
  },
  {
   "cell_type": "code",
   "execution_count": 18,
   "id": "51bad8c9",
   "metadata": {},
   "outputs": [
    {
     "data": {
      "text/plain": [
       "torch.Size([5, 2])"
      ]
     },
     "execution_count": 18,
     "metadata": {},
     "output_type": "execute_result"
    }
   ],
   "source": [
    "emb[:,0,:].shape # all examples, first letter of context, all embeding \n",
    "# first input in paper graph\n",
    "# we pass 3 inputs: first letter, second, third of context for # X examples"
   ]
  },
  {
   "cell_type": "code",
   "execution_count": 19,
   "id": "62e9774d",
   "metadata": {},
   "outputs": [
    {
     "data": {
      "text/plain": [
       "tensor([[0.8707, 0.9683],\n",
       "        [0.8707, 0.9683],\n",
       "        [0.8707, 0.9683],\n",
       "        [0.7087, 0.7297],\n",
       "        [0.9775, 0.5601]])"
      ]
     },
     "execution_count": 19,
     "metadata": {},
     "output_type": "execute_result"
    }
   ],
   "source": [
    "emb[:,0,:]"
   ]
  },
  {
   "cell_type": "code",
   "execution_count": 20,
   "id": "abbfa57c",
   "metadata": {},
   "outputs": [
    {
     "name": "stdout",
     "output_type": "stream",
     "text": [
      "torch.Size([5, 6])\n"
     ]
    },
    {
     "data": {
      "text/plain": [
       "tensor([[0.8707, 0.9683, 0.8707, 0.9683, 0.8707, 0.9683],\n",
       "        [0.8707, 0.9683, 0.8707, 0.9683, 0.7087, 0.7297],\n",
       "        [0.8707, 0.9683, 0.7087, 0.7297, 0.9775, 0.5601],\n",
       "        [0.7087, 0.7297, 0.9775, 0.5601, 0.9775, 0.5601],\n",
       "        [0.9775, 0.5601, 0.9775, 0.5601, 0.8902, 0.7857]])"
      ]
     },
     "execution_count": 20,
     "metadata": {},
     "output_type": "execute_result"
    }
   ],
   "source": [
    "print(torch.cat((emb[:,0,:], emb[:,1,:], emb[:,2,:]), dim=1).shape)\n",
    "torch.cat((emb[:,0,:], emb[:,1,:], emb[:,2,:]), dim=1) # glue columns\n",
    "# first 5x2 is block above (first letters)\n",
    "# second block is second letter..."
   ]
  },
  {
   "cell_type": "code",
   "execution_count": 21,
   "id": "212272ee",
   "metadata": {},
   "outputs": [
    {
     "data": {
      "text/plain": [
       "tensor([[0.8707, 0.9683, 0.8707, 0.9683, 0.8707, 0.9683],\n",
       "        [0.8707, 0.9683, 0.8707, 0.9683, 0.7087, 0.7297],\n",
       "        [0.8707, 0.9683, 0.7087, 0.7297, 0.9775, 0.5601],\n",
       "        [0.7087, 0.7297, 0.9775, 0.5601, 0.9775, 0.5601],\n",
       "        [0.9775, 0.5601, 0.9775, 0.5601, 0.8902, 0.7857]])"
      ]
     },
     "execution_count": 21,
     "metadata": {},
     "output_type": "execute_result"
    }
   ],
   "source": [
    "# not hardcoded\n",
    "torch.cat(torch.unbind(emb, 1), 1)"
   ]
  },
  {
   "cell_type": "code",
   "execution_count": 22,
   "id": "ac66de0d",
   "metadata": {},
   "outputs": [
    {
     "data": {
      "text/plain": [
       "tensor([ 0,  1,  2,  3,  4,  5,  6,  7,  8,  9, 10, 11, 12, 13, 14, 15, 16, 17,\n",
       "        18, 19])"
      ]
     },
     "execution_count": 22,
     "metadata": {},
     "output_type": "execute_result"
    }
   ],
   "source": [
    "a = torch.arange(20)\n",
    "a"
   ]
  },
  {
   "cell_type": "code",
   "execution_count": 23,
   "id": "5133a144",
   "metadata": {},
   "outputs": [
    {
     "data": {
      "text/plain": [
       "tensor([[ 0,  1,  2,  3],\n",
       "        [ 4,  5,  6,  7],\n",
       "        [ 8,  9, 10, 11],\n",
       "        [12, 13, 14, 15],\n",
       "        [16, 17, 18, 19]])"
      ]
     },
     "execution_count": 23,
     "metadata": {},
     "output_type": "execute_result"
    }
   ],
   "source": [
    "a.view(5,4) # this is fast"
   ]
  },
  {
   "cell_type": "code",
   "execution_count": 24,
   "id": "5c5efbd5",
   "metadata": {},
   "outputs": [
    {
     "data": {
      "text/plain": [
       "torch.Tensor"
      ]
     },
     "execution_count": 24,
     "metadata": {},
     "output_type": "execute_result"
    }
   ],
   "source": [
    "type(a.view(5,4)) # a regular tensor"
   ]
  },
  {
   "cell_type": "code",
   "execution_count": 25,
   "id": "23e32e8a",
   "metadata": {},
   "outputs": [
    {
     "data": {
      "text/plain": [
       "torch.Size([5, 3, 2])"
      ]
     },
     "execution_count": 25,
     "metadata": {},
     "output_type": "execute_result"
    }
   ],
   "source": [
    "emb.shape"
   ]
  },
  {
   "cell_type": "code",
   "execution_count": 26,
   "id": "5500037b",
   "metadata": {},
   "outputs": [
    {
     "data": {
      "text/plain": [
       "tensor([[0.8707, 0.9683, 0.8707, 0.9683, 0.8707, 0.9683],\n",
       "        [0.8707, 0.9683, 0.8707, 0.9683, 0.7087, 0.7297],\n",
       "        [0.8707, 0.9683, 0.7087, 0.7297, 0.9775, 0.5601],\n",
       "        [0.7087, 0.7297, 0.9775, 0.5601, 0.9775, 0.5601],\n",
       "        [0.9775, 0.5601, 0.9775, 0.5601, 0.8902, 0.7857]])"
      ]
     },
     "execution_count": 26,
     "metadata": {},
     "output_type": "execute_result"
    }
   ],
   "source": [
    "emb.view(5,6)"
   ]
  },
  {
   "cell_type": "code",
   "execution_count": 27,
   "id": "03b39bdf",
   "metadata": {},
   "outputs": [
    {
     "data": {
      "text/plain": [
       "tensor([[0.8707, 0.9683, 0.8707, 0.9683, 0.8707, 0.9683],\n",
       "        [0.8707, 0.9683, 0.8707, 0.9683, 0.7087, 0.7297],\n",
       "        [0.8707, 0.9683, 0.7087, 0.7297, 0.9775, 0.5601],\n",
       "        [0.7087, 0.7297, 0.9775, 0.5601, 0.9775, 0.5601],\n",
       "        [0.9775, 0.5601, 0.9775, 0.5601, 0.8902, 0.7857]])"
      ]
     },
     "execution_count": 27,
     "metadata": {},
     "output_type": "execute_result"
    }
   ],
   "source": [
    "# emb.view(emb.shape[0], 6)\n",
    "emb.view(-1, 6) # given that (-1)x6 = 5x3x2 can complete (-1)"
   ]
  },
  {
   "cell_type": "code",
   "execution_count": 28,
   "id": "eede68b2",
   "metadata": {},
   "outputs": [],
   "source": [
    "h = emb.view(-1, 6) @ W1 + b1"
   ]
  },
  {
   "cell_type": "code",
   "execution_count": 29,
   "id": "95f57d3d",
   "metadata": {},
   "outputs": [
    {
     "data": {
      "text/plain": [
       "(torch.Size([100]), torch.Size([5, 100]))"
      ]
     },
     "execution_count": 29,
     "metadata": {},
     "output_type": "execute_result"
    }
   ],
   "source": [
    "b1.shape, (emb.view(-1, 6) @ W1).shape\n",
    "# 5 x 100\n",
    "# 0->1->5 x 100"
   ]
  },
  {
   "cell_type": "code",
   "execution_count": 30,
   "id": "2f6a718d",
   "metadata": {},
   "outputs": [
    {
     "data": {
      "text/plain": [
       "torch.Size([5, 100])"
      ]
     },
     "execution_count": 30,
     "metadata": {},
     "output_type": "execute_result"
    }
   ],
   "source": [
    "h.shape\n",
    "# h[0] all activations for first example"
   ]
  },
  {
   "cell_type": "code",
   "execution_count": 31,
   "id": "cce1f524",
   "metadata": {},
   "outputs": [],
   "source": [
    "W2 = torch.randn(100, 27) # 100 neurons 6 inputs (the whole example above)\n",
    "b2 = torch.rand(27)"
   ]
  },
  {
   "cell_type": "code",
   "execution_count": 32,
   "id": "27ea1efb",
   "metadata": {},
   "outputs": [
    {
     "data": {
      "text/plain": [
       "torch.Size([5, 27])"
      ]
     },
     "execution_count": 32,
     "metadata": {},
     "output_type": "execute_result"
    }
   ],
   "source": [
    "logits = h @ W2 + b2 \n",
    "logits.shape"
   ]
  },
  {
   "cell_type": "code",
   "execution_count": 33,
   "id": "758549ec",
   "metadata": {},
   "outputs": [
    {
     "data": {
      "text/plain": [
       "torch.Size([5, 1])"
      ]
     },
     "execution_count": 33,
     "metadata": {},
     "output_type": "execute_result"
    }
   ],
   "source": [
    "counts = logits.exp()\n",
    "counts.sum(dim=1, keepdim=True).shape"
   ]
  },
  {
   "cell_type": "code",
   "execution_count": 34,
   "id": "05430e75",
   "metadata": {},
   "outputs": [
    {
     "data": {
      "text/plain": [
       "torch.Size([5, 27])"
      ]
     },
     "execution_count": 34,
     "metadata": {},
     "output_type": "execute_result"
    }
   ],
   "source": [
    "prob = counts / counts.sum(dim=1, keepdim=True)\n",
    "prob.shape"
   ]
  },
  {
   "cell_type": "code",
   "execution_count": 35,
   "id": "6e3dc0da",
   "metadata": {},
   "outputs": [
    {
     "data": {
      "text/plain": [
       "tensor(1.)"
      ]
     },
     "execution_count": 35,
     "metadata": {},
     "output_type": "execute_result"
    }
   ],
   "source": [
    "sum(prob[0])"
   ]
  },
  {
   "cell_type": "code",
   "execution_count": 36,
   "id": "73cc1198",
   "metadata": {},
   "outputs": [
    {
     "data": {
      "text/plain": [
       "tensor([ 5, 13, 13,  1,  0])"
      ]
     },
     "execution_count": 36,
     "metadata": {},
     "output_type": "execute_result"
    }
   ],
   "source": [
    "Y"
   ]
  },
  {
   "cell_type": "code",
   "execution_count": 37,
   "id": "39a01817",
   "metadata": {},
   "outputs": [
    {
     "data": {
      "text/plain": [
       "tensor([4.3830e-03, 4.8756e-21, 1.2270e-20, 1.7581e-10, 8.3317e-19])"
      ]
     },
     "execution_count": 37,
     "metadata": {},
     "output_type": "execute_result"
    }
   ],
   "source": [
    "prob[torch.arange(5), Y] # should be ~= 1 when trained"
   ]
  },
  {
   "cell_type": "code",
   "execution_count": 38,
   "id": "37635463",
   "metadata": {},
   "outputs": [
    {
     "data": {
      "text/plain": [
       "tensor(32.4276)"
      ]
     },
     "execution_count": 38,
     "metadata": {},
     "output_type": "execute_result"
    }
   ],
   "source": [
    "loss = -prob[torch.arange(5), Y].log().mean()\n",
    "loss"
   ]
  },
  {
   "cell_type": "markdown",
   "id": "c252dac3",
   "metadata": {},
   "source": [
    "# Summary of the neural net"
   ]
  },
  {
   "cell_type": "code",
   "execution_count": 39,
   "id": "c0fbf9b2",
   "metadata": {},
   "outputs": [],
   "source": [
    "# build the dataset\n",
    "block_size = 3 # context length: how many characters do we take to predict the next one?\n",
    "\n",
    "X, Y = [], []\n",
    "for w in words[:5]:\n",
    "  context = [0] * block_size\n",
    "  for ch in w + '.':\n",
    "      ix = stoi[ch]\n",
    "      X.append(context)\n",
    "      Y.append(ix)\n",
    "      context = context[1:] + [ix] # crop and append\n",
    "\n",
    "X = torch.tensor(X)\n",
    "Y = torch.tensor(Y)"
   ]
  },
  {
   "cell_type": "code",
   "execution_count": 40,
   "id": "37a2e090",
   "metadata": {},
   "outputs": [],
   "source": [
    "g = torch.Generator().manual_seed(2147483647) # for reproducibility\n",
    "C = torch.randn((27, 2), generator=g)\n",
    "W1 = torch.randn((6, 100), generator=g)\n",
    "b1 = torch.randn(100, generator=g)\n",
    "W2 = torch.randn((100, 27), generator=g)\n",
    "b2 = torch.randn(27, generator=g)\n",
    "parameters = [C, W1, b1, W2, b2]"
   ]
  },
  {
   "cell_type": "code",
   "execution_count": 41,
   "id": "0de172e4",
   "metadata": {},
   "outputs": [
    {
     "data": {
      "text/plain": [
       "3481"
      ]
     },
     "execution_count": 41,
     "metadata": {},
     "output_type": "execute_result"
    }
   ],
   "source": [
    "sum(p.nelement() for p in parameters)"
   ]
  },
  {
   "cell_type": "code",
   "execution_count": 42,
   "id": "62a4b08a",
   "metadata": {},
   "outputs": [
    {
     "data": {
      "text/plain": [
       "tensor(17.7697)"
      ]
     },
     "execution_count": 42,
     "metadata": {},
     "output_type": "execute_result"
    }
   ],
   "source": [
    "# forward pass\n",
    "emb = C[X]\n",
    "h = torch.tanh(emb.view(-1, 6) @ W1 + b1)\n",
    "logits = h @ W2 + b2\n",
    "counts = logits.exp()\n",
    "prob = counts / counts.sum(dim=1, keepdim=True)\n",
    "loss = - prob[torch.arange(X.shape[0]), Y].log().mean()\n",
    "loss"
   ]
  },
  {
   "cell_type": "code",
   "execution_count": 43,
   "id": "4321c0dc",
   "metadata": {},
   "outputs": [
    {
     "data": {
      "text/plain": [
       "32"
      ]
     },
     "execution_count": 43,
     "metadata": {},
     "output_type": "execute_result"
    }
   ],
   "source": [
    "X.shape[0]"
   ]
  }
 ],
 "metadata": {
  "kernelspec": {
   "display_name": "Python 3 (ipykernel)",
   "language": "python",
   "name": "python3"
  },
  "language_info": {
   "codemirror_mode": {
    "name": "ipython",
    "version": 3
   },
   "file_extension": ".py",
   "mimetype": "text/x-python",
   "name": "python",
   "nbconvert_exporter": "python",
   "pygments_lexer": "ipython3",
   "version": "3.10.9"
  }
 },
 "nbformat": 4,
 "nbformat_minor": 5
}
